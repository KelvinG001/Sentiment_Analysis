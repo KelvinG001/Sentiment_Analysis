{
 "cells": [
  {
   "cell_type": "code",
   "execution_count": null,
   "metadata": {},
   "outputs": [],
   "source": [
    "from translate import translate\n",
    "from sentiment_analysis import preprocess, predict_sentiment\n",
    "import pandas as pd\n",
    "import csv\n",
    "from tqdm import tqdm"
   ]
  },
  {
   "cell_type": "code",
   "execution_count": 2,
   "metadata": {},
   "outputs": [],
   "source": [
    "all_tweets = pd.read_excel('d:/卒論/data/TWEETS/tweets_info_combined.xlsx')"
   ]
  },
  {
   "cell_type": "code",
   "execution_count": null,
   "metadata": {},
   "outputs": [],
   "source": [
    "results = []\n",
    "\n",
    "for _, tweet in tqdm(all_tweets[50550:].iterrows(), total = len(all_tweets[50550:]), desc = \"Analysis Progress\"):\n",
    "    original = list(tweet)\n",
    "    comment = tweet['content']\n",
    "    comment_preprocessed = preprocess(comment)\n",
    "    # comment_preprocessed = translate(comment_preprocessed)\n",
    "    sentiment = predict_sentiment(comment_preprocessed)    \n",
    "    score = {'neutral': 0, 'positive': 1}.get(sentiment, -1)\n",
    "\n",
    "    original.extend([sentiment, score])\n",
    "    results.append(original)\n",
    "\n",
    "header = list(all_tweets.columns) + [\"sentiment\", \"sentiment_score\"]\n",
    "with open(f'D:/卒論/data/sentiment_results.csv', 'w', newline='', encoding='utf-8-sig') as file:\n",
    "    csv_writer = csv.writer(file)\n",
    "    csv_writer.writerow(header)  \n",
    "    csv_writer.writerows(results)  \n",
    "\n",
    "print(\"saved successfully!\")"
   ]
  },
  {
   "cell_type": "code",
   "execution_count": null,
   "metadata": {},
   "outputs": [],
   "source": [
    "header = list(all_tweets.columns) + [\"sentiment\", \"sentiment_score\"]\n",
    "with open(f'D:/卒論/data/sentiment_results.csv', 'w', newline='', encoding='utf-8-sig') as file:\n",
    "    csv_writer = csv.writer(file)\n",
    "    csv_writer.writerow(header)  \n",
    "    csv_writer.writerows(results)  \n",
    "\n",
    "print(\"saved successfully!\")"
   ]
  }
 ],
 "metadata": {
  "kernelspec": {
   "display_name": "keio_thesis_translate",
   "language": "python",
   "name": "python3"
  },
  "language_info": {
   "codemirror_mode": {
    "name": "ipython",
    "version": 3
   },
   "file_extension": ".py",
   "mimetype": "text/x-python",
   "name": "python",
   "nbconvert_exporter": "python",
   "pygments_lexer": "ipython3",
   "version": "3.10.16"
  }
 },
 "nbformat": 4,
 "nbformat_minor": 2
}
