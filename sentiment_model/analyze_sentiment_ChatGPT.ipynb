{
 "cells": [
  {
   "cell_type": "code",
   "execution_count": null,
   "metadata": {},
   "outputs": [],
   "source": [
    "import pandas as pd\n",
    "import csv\n",
    "from tqdm import tqdm\n",
    "\n",
    "all_tweets = pd.read_excel('path to your file')\n"
   ]
  },
  {
   "cell_type": "code",
   "execution_count": 6,
   "metadata": {},
   "outputs": [],
   "source": [
    "import openai\n",
    "import json\n",
    "\n",
    "openai.api_key = \"input your api key\"\n",
    "\n",
    "def predict_GPT(tweet):\n",
    "    \"\"\"Analyze sentiment of a tweet using OpenAI's Chat API.\"\"\"\n",
    "    try:\n",
    "        \n",
    "        response = openai.ChatCompletion.create(\n",
    "            model=\"gpt-4o-mini\",  \n",
    "            messages=[\n",
    "                {\n",
    "                    \"role\": \"user\",\n",
    "                    \"content\": f'Predict the sentiment of this tweet: \"{tweet}\". '\n",
    "                               'Return a JSON object in the format: '\n",
    "                               '{\"sentiment\": \"positive/negative/neutral\", \"sentiment_score\": 1(if positive)/0(if neutral)/-1(if negative)}. '\n",
    "                               'Only return this JSON object and nothing else. Do not include anyother contents besides Json object or I cannot extract the Json successfully.',\n",
    "                }\n",
    "            ],\n",
    "            max_tokens=150,\n",
    "        )\n",
    "\n",
    "        # Extract raw content\n",
    "        content = response['choices'][0]['message']['content']\n",
    "        # print(f\"Raw API Response: {content}\")\n",
    "\n",
    "        # Ensure content is stripped of whitespace\n",
    "        content = content.strip()\n",
    "        \n",
    "\n",
    "        # Parse JSON response\n",
    "        try:\n",
    "            json_content = json.loads(content)  \n",
    "        except json.JSONDecodeError as e:\n",
    "            print(f\"JSON decoding failed: {e}. Using eval() as fallback.\")\n",
    "            json_content = eval(content)  \n",
    "\n",
    "        return [json_content['sentiment'], json_content['sentiment_score']]\n",
    "    \n",
    "    except Exception as e:\n",
    "        print(f\"Error: {e}\")\n",
    "        return [\"na\", \"na\"]\n"
   ]
  },
  {
   "cell_type": "code",
   "execution_count": null,
   "metadata": {},
   "outputs": [],
   "source": [
    "results = []\n",
    "\n",
    "for _, tweet in tqdm(all_tweets.iterrows(), total = len(all_tweets), desc = \"Analysis Progress\"):\n",
    "    original = list(tweet)\n",
    "    comment = tweet['content']\n",
    "    re = predict_GPT(comment)\n",
    "\n",
    "    original.extend(re)\n",
    "    results.append(original)\n",
    "\n",
    "\n",
    "header = list(all_tweets.columns) + [\"sentiment\", \"sentiment_score\"]\n",
    "with open(f'path to your file', 'w', newline='', encoding='utf-8-sig') as file:\n",
    "    csv_writer = csv.writer(file)\n",
    "    csv_writer.writerow(header)  \n",
    "    csv_writer.writerows(results)  \n",
    "\n",
    "print(\"saved successfully!\")"
   ]
  }
 ],
 "metadata": {
  "kernelspec": {
   "display_name": "keio_thesis_ver2.0",
   "language": "python",
   "name": "python3"
  },
  "language_info": {
   "codemirror_mode": {
    "name": "ipython",
    "version": 3
   },
   "file_extension": ".py",
   "mimetype": "text/x-python",
   "name": "python",
   "nbconvert_exporter": "python",
   "pygments_lexer": "ipython3",
   "version": "3.10.16"
  }
 },
 "nbformat": 4,
 "nbformat_minor": 2
}
